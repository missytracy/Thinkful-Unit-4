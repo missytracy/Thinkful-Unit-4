{
 "cells": [
  {
   "cell_type": "code",
   "execution_count": 1,
   "metadata": {},
   "outputs": [],
   "source": [
    "import numpy as np\n",
    "import pandas as pd\n",
    "import scipy\n",
    "import matplotlib.pyplot as plt\n",
    "import seaborn as sns\n",
    "from sklearn.preprocessing import normalize\n",
    "%matplotlib inline"
   ]
  },
  {
   "cell_type": "markdown",
   "metadata": {},
   "source": [
    "# 4.2.5 Challenge - Boston Marathon\n",
    "\n",
    "You now have a pretty varied suite of clustering and clustering evaluation methods; we'd be remiss if we didn't give you the opportunity to try them out on some real data. So here we go!\n",
    "\n",
    "There is a lot of information on runners and their performance for the Boston Marathon. Pick a year (post-2012 has more info) and do some clustering.\n",
    "\n",
    "Specifically, use the tools at hand to determine which clustering solution, including number of clusters and algorithm used, is best for the marathon data. Once you have a solution you like, write a data story, including visualizations, where you teach the reader something about the Boston Marathon based on your clusters. Write up your report, including your process from start to finish, in a Jupyter notebook and submit it below."
   ]
  },
  {
   "cell_type": "markdown",
   "metadata": {},
   "source": [
    "## Goal: Look for something!"
   ]
  },
  {
   "cell_type": "markdown",
   "metadata": {},
   "source": [
    "## Initial Data Processing"
   ]
  },
  {
   "cell_type": "code",
   "execution_count": 2,
   "metadata": {},
   "outputs": [],
   "source": [
    "# Load in 2014 data\n",
    "df = pd.read_csv('boston2014.csv')\n",
    "\n",
    "# Drop columns not related to race performance.\n",
    "df = df.drop(columns=['name', 'bib', 'ctz', 'state', 'country', 'city'])\n",
    "\n",
    "# Remove hyphens from missing entries\n",
    "df = df.replace(to_replace='-', value='')\n",
    "\n",
    "# Convert splits to numeric\n",
    "splits = ['10k', '25k', '35k', '30k', '5k', 'half', '20k', '40k' ]\n",
    "for split in splits:\n",
    "    df[split] = pd.to_numeric(df[split])\n",
    "\n",
    "# Binarize gender so 1 = female, 0 = male\n",
    "df['gender'] = np.where(df['gender']=='F', 1, 0)\n",
    "\n",
    "# Drop missing data\n",
    "df = df.dropna()"
   ]
  },
  {
   "cell_type": "code",
   "execution_count": 3,
   "metadata": {},
   "outputs": [],
   "source": [
    "# Split data into smaller set for memory reasons\n",
    "from sklearn.model_selection import train_test_split\n",
    "df1, df2 = train_test_split(df, test_size=0.90, random_state=42)\n",
    "\n",
    "# Normalize smaller dataset\n",
    "df1_norm = normalize(df1)"
   ]
  },
  {
   "cell_type": "markdown",
   "metadata": {},
   "source": [
    "## Clustering Models"
   ]
  },
  {
   "cell_type": "code",
   "execution_count": 4,
   "metadata": {},
   "outputs": [],
   "source": [
    "from sklearn.cluster import KMeans\n",
    "from sklearn.decomposition import PCA\n",
    "from sklearn import metrics\n",
    "from sklearn.model_selection import cross_val_score"
   ]
  },
  {
   "cell_type": "code",
   "execution_count": 5,
   "metadata": {},
   "outputs": [],
   "source": [
    "# Specify features - focus on splits every 10k and final time\n",
    "X = df1.loc[:, ['10k', '20k', '30k', '40k', 'overall']]\n",
    "X_norm = normalize(X)"
   ]
  },
  {
   "cell_type": "markdown",
   "metadata": {},
   "source": [
    "### K Means"
   ]
  },
  {
   "cell_type": "code",
   "execution_count": 6,
   "metadata": {},
   "outputs": [
    {
     "name": "stdout",
     "output_type": "stream",
     "text": [
      "K: 2, silhouette: 0.9490132196805277\n",
      "K: 3, silhouette: 0.9046569578896213\n",
      "K: 4, silhouette: 0.8676181730422375\n",
      "K: 5, silhouette: 0.8072241470971726\n",
      "K: 6, silhouette: 0.7894699301402841\n"
     ]
    }
   ],
   "source": [
    "# Run k means model\n",
    "for k in np.arange(2, 7, 1):\n",
    "    model = KMeans(n_clusters=k, random_state=42).fit(X_norm)\n",
    "    labels = model.labels_\n",
    "    silhouette = metrics.silhouette_score(X_norm, labels, metric='euclidean')\n",
    "    print('K: {}, silhouette: {}'.format(k, silhouette))"
   ]
  },
  {
   "cell_type": "markdown",
   "metadata": {},
   "source": [
    "### Mean Shift"
   ]
  },
  {
   "cell_type": "code",
   "execution_count": 7,
   "metadata": {},
   "outputs": [
    {
     "name": "stdout",
     "output_type": "stream",
     "text": [
      "K: 28, silhouette: 0.8208318952276669\n"
     ]
    }
   ],
   "source": [
    "from sklearn.cluster import MeanShift, estimate_bandwidth\n",
    "\n",
    "# Set bandwidth estimator\n",
    "bandwidth = estimate_bandwidth(X_norm, quantile=0.2, n_samples=500)\n",
    "\n",
    "# Declare and fit model\n",
    "ms = MeanShift(bandwidth=bandwidth, bin_seeding=True)\n",
    "ms.fit(X_norm)\n",
    "\n",
    "# Get labels, number of clusters, similarity score\n",
    "labels = ms.labels_\n",
    "n_clusters = len(np.unique(labels))\n",
    "silhouette = metrics.silhouette_score(X_norm, labels, metric='euclidean')\n",
    "print('K: {}, silhouette: {}'.format(n_clusters, silhouette))"
   ]
  },
  {
   "cell_type": "markdown",
   "metadata": {},
   "source": [
    "### Spectral Clustering"
   ]
  },
  {
   "cell_type": "code",
   "execution_count": 8,
   "metadata": {},
   "outputs": [
    {
     "name": "stdout",
     "output_type": "stream",
     "text": [
      "K: 2, silhouette: 0.7894699301402841\n",
      "K: 3, silhouette: 0.7894699301402841\n"
     ]
    }
   ],
   "source": [
    "from sklearn.cluster import SpectralClustering\n",
    "\n",
    "# Run spectral clustering over range of k values\n",
    "for k in np.arange(2, 4, 1):\n",
    "    sc = SpectralClustering(n_clusters=k, random_state=42).fit(X_norm)\n",
    "    labels = model.labels_\n",
    "    silhouette = metrics.silhouette_score(X_norm, labels, metric='euclidean')\n",
    "    print('K: {}, silhouette: {}'.format(k, silhouette))\n",
    "\n",
    "# Memory error if run on higher k"
   ]
  },
  {
   "cell_type": "markdown",
   "metadata": {},
   "source": [
    "### Affinity Propagation"
   ]
  },
  {
   "cell_type": "code",
   "execution_count": 9,
   "metadata": {},
   "outputs": [
    {
     "name": "stdout",
     "output_type": "stream",
     "text": [
      "K: 1029\n"
     ]
    }
   ],
   "source": [
    "from sklearn.cluster import AffinityPropagation\n",
    "\n",
    "# Run and fit model\n",
    "af = AffinityPropagation().fit(X_norm)\n",
    "\n",
    "# Get number of clusters\n",
    "cluster_centers_indices = af.cluster_centers_indices_\n",
    "n_clusters = len(cluster_centers_indices)\n",
    "print('K: {}'.format(n_clusters))"
   ]
  },
  {
   "cell_type": "markdown",
   "metadata": {},
   "source": [
    "### Best Model: K-Means"
   ]
  },
  {
   "cell_type": "code",
   "execution_count": 27,
   "metadata": {},
   "outputs": [
    {
     "name": "stderr",
     "output_type": "stream",
     "text": [
      "c:\\users\\mtracy\\appdata\\local\\programs\\python\\python36-32\\lib\\site-packages\\ipykernel_launcher.py:8: SettingWithCopyWarning: \n",
      "A value is trying to be set on a copy of a slice from a DataFrame.\n",
      "Try using .loc[row_indexer,col_indexer] = value instead\n",
      "\n",
      "See the caveats in the documentation: http://pandas.pydata.org/pandas-docs/stable/indexing.html#indexing-view-versus-copy\n",
      "  \n"
     ]
    }
   ],
   "source": [
    "# PCA for plotting.  Reduce to 2 components\n",
    "pca = PCA(n_components=2)\n",
    "pca_X = pca.fit(X_norm).transform(X_norm)\n",
    "\n",
    "# Get cluster assignments with k=2\n",
    "model = KMeans(n_clusters=2, random_state=42).fit(X_norm)\n",
    "labels = model.labels_\n",
    "df1['cluster'] = labels"
   ]
  },
  {
   "cell_type": "code",
   "execution_count": 33,
   "metadata": {},
   "outputs": [
    {
     "data": {
      "image/png": "[encoded data removed]",
      "text/plain": [
       "<matplotlib.figure.Figure at 0x2a1f950>"
      ]
     },
     "metadata": {},
     "output_type": "display_data"
    }
   ],
   "source": [
    "# Plot PCA components and clusters\n",
    "plt.scatter(pca_X[:, 0], pca_X[:, 1], c=df1['cluster'])\n",
    "plt.tight_layout()\n",
    "plt.title('PCA Components: K=2')\n",
    "plt.show()"
   ]
  },
  {
   "cell_type": "code",
   "execution_count": 31,
   "metadata": {},
   "outputs": [
    {
     "data": {
      "text/html": [
       "<div>\n",
       "<style scoped>\n",
       "    .dataframe tbody tr th:only-of-type {\n",
       "        vertical-align: middle;\n",
       "    }\n",
       "\n",
       "    .dataframe tbody tr th {\n",
       "        vertical-align: top;\n",
       "    }\n",
       "\n",
       "    .dataframe thead th {\n",
       "        text-align: right;\n",
       "    }\n",
       "</style>\n",
       "<table border=\"1\" class=\"dataframe\">\n",
       "  <thead>\n",
       "    <tr style=\"text-align: right;\">\n",
       "      <th></th>\n",
       "      <th>count</th>\n",
       "      <th>mean</th>\n",
       "      <th>std</th>\n",
       "      <th>min</th>\n",
       "      <th>25%</th>\n",
       "      <th>50%</th>\n",
       "      <th>75%</th>\n",
       "      <th>max</th>\n",
       "    </tr>\n",
       "    <tr>\n",
       "      <th>cluster</th>\n",
       "      <th></th>\n",
       "      <th></th>\n",
       "      <th></th>\n",
       "      <th></th>\n",
       "      <th></th>\n",
       "      <th></th>\n",
       "      <th></th>\n",
       "      <th></th>\n",
       "    </tr>\n",
       "  </thead>\n",
       "  <tbody>\n",
       "    <tr>\n",
       "      <th>0</th>\n",
       "      <td>3112.0</td>\n",
       "      <td>16400.417738</td>\n",
       "      <td>9093.401548</td>\n",
       "      <td>481.0</td>\n",
       "      <td>8366.75</td>\n",
       "      <td>16496.0</td>\n",
       "      <td>24471.75</td>\n",
       "      <td>31874.0</td>\n",
       "    </tr>\n",
       "    <tr>\n",
       "      <th>1</th>\n",
       "      <td>52.0</td>\n",
       "      <td>230.750000</td>\n",
       "      <td>127.684795</td>\n",
       "      <td>2.0</td>\n",
       "      <td>143.50</td>\n",
       "      <td>230.0</td>\n",
       "      <td>335.00</td>\n",
       "      <td>456.0</td>\n",
       "    </tr>\n",
       "  </tbody>\n",
       "</table>\n",
       "</div>"
      ],
      "text/plain": [
       "          count          mean          std    min      25%      50%       75%  \\\n",
       "cluster                                                                         \n",
       "0        3112.0  16400.417738  9093.401548  481.0  8366.75  16496.0  24471.75   \n",
       "1          52.0    230.750000   127.684795    2.0   143.50    230.0    335.00   \n",
       "\n",
       "             max  \n",
       "cluster           \n",
       "0        31874.0  \n",
       "1          456.0  "
      ]
     },
     "execution_count": 31,
     "metadata": {},
     "output_type": "execute_result"
    }
   ],
   "source": [
    "# Summary stats, overall time by cluster\n",
    "df1.groupby(['cluster'])['overall'].describe()"
   ]
  },
  {
   "cell_type": "code",
   "execution_count": 39,
   "metadata": {},
   "outputs": [
    {
     "data": {
      "text/html": [
       "<div>\n",
       "<style scoped>\n",
       "    .dataframe tbody tr th:only-of-type {\n",
       "        vertical-align: middle;\n",
       "    }\n",
       "\n",
       "    .dataframe tbody tr th {\n",
       "        vertical-align: top;\n",
       "    }\n",
       "\n",
       "    .dataframe thead th {\n",
       "        text-align: right;\n",
       "    }\n",
       "</style>\n",
       "<table border=\"1\" class=\"dataframe\">\n",
       "  <thead>\n",
       "    <tr style=\"text-align: right;\">\n",
       "      <th></th>\n",
       "      <th>count</th>\n",
       "      <th>mean</th>\n",
       "      <th>std</th>\n",
       "      <th>min</th>\n",
       "      <th>25%</th>\n",
       "      <th>50%</th>\n",
       "      <th>75%</th>\n",
       "      <th>max</th>\n",
       "    </tr>\n",
       "    <tr>\n",
       "      <th>cluster</th>\n",
       "      <th></th>\n",
       "      <th></th>\n",
       "      <th></th>\n",
       "      <th></th>\n",
       "      <th></th>\n",
       "      <th></th>\n",
       "      <th></th>\n",
       "      <th></th>\n",
       "    </tr>\n",
       "  </thead>\n",
       "  <tbody>\n",
       "    <tr>\n",
       "      <th>0</th>\n",
       "      <td>3112.0</td>\n",
       "      <td>0.460797</td>\n",
       "      <td>0.498541</td>\n",
       "      <td>0.0</td>\n",
       "      <td>0.0</td>\n",
       "      <td>0.0</td>\n",
       "      <td>1.0</td>\n",
       "      <td>1.0</td>\n",
       "    </tr>\n",
       "    <tr>\n",
       "      <th>1</th>\n",
       "      <td>52.0</td>\n",
       "      <td>0.096154</td>\n",
       "      <td>0.297678</td>\n",
       "      <td>0.0</td>\n",
       "      <td>0.0</td>\n",
       "      <td>0.0</td>\n",
       "      <td>0.0</td>\n",
       "      <td>1.0</td>\n",
       "    </tr>\n",
       "  </tbody>\n",
       "</table>\n",
       "</div>"
      ],
      "text/plain": [
       "          count      mean       std  min  25%  50%  75%  max\n",
       "cluster                                                     \n",
       "0        3112.0  0.460797  0.498541  0.0  0.0  0.0  1.0  1.0\n",
       "1          52.0  0.096154  0.297678  0.0  0.0  0.0  0.0  1.0"
      ]
     },
     "execution_count": 39,
     "metadata": {},
     "output_type": "execute_result"
    }
   ],
   "source": [
    "# Summary stats, gender distribution by cluster\n",
    "df1.groupby(['cluster'])['gender'].describe()"
   ]
  },
  {
   "cell_type": "code",
   "execution_count": 38,
   "metadata": {},
   "outputs": [
    {
     "data": {
      "image/png": "[encoded data removed]",
      "text/plain": [
       "<matplotlib.figure.Figure at 0x2b48b90>"
      ]
     },
     "metadata": {},
     "output_type": "display_data"
    }
   ],
   "source": [
    "# Plot 5k split vs overall finish\n",
    "plt.scatter(df1['5k'], df1['overall'], c=df1['cluster'])\n",
    "plt.xlabel('5k')\n",
    "plt.ylabel('overall')\n",
    "plt.title('5k Split vs Overall Finish Time: K=2')\n",
    "plt.show()"
   ]
  },
  {
   "cell_type": "code",
   "execution_count": 36,
   "metadata": {},
   "outputs": [
    {
     "data": {
      "image/png": "[encoded data removed]",
      "text/plain": [
       "<matplotlib.figure.Figure at 0x2acd090>"
      ]
     },
     "metadata": {},
     "output_type": "display_data"
    }
   ],
   "source": [
    "# Plot 20k split vs overall finish time\n",
    "plt.scatter(df1['20k'], df1['overall'], c=df1['cluster'])\n",
    "plt.xlabel('20k split')\n",
    "plt.ylabel('overall')\n",
    "plt.title('20k Split vs Overall Finish Time: K=2')\n",
    "plt.show()"
   ]
  },
  {
   "cell_type": "markdown",
   "metadata": {},
   "source": [
    "K Means with k=2 was identified as the being the best clustering solution on the subset of data used here.  Graphing the PCA components isn't very helpful.  No natural clusters are apparent.  Summary statistics show:\n",
    "* Majority of data contained in cluster 0\n",
    "* Cluster 1 has a much lower mean overall time than cluster 0\n",
    "* Cluster 1 is predominantly men\n",
    "* Clustering appears to be identifying fastest runners only\n",
    "\n",
    "No great stories found here..."
   ]
  },
  {
   "cell_type": "code",
   "execution_count": null,
   "metadata": {},
   "outputs": [],
   "source": []
  }
 ],
 "metadata": {
  "kernelspec": {
   "display_name": "Python 3",
   "language": "python",
   "name": "python3"
  },
  "language_info": {
   "codemirror_mode": {
    "name": "ipython",
    "version": 3
   },
   "file_extension": ".py",
   "mimetype": "text/x-python",
   "name": "python",
   "nbconvert_exporter": "python",
   "pygments_lexer": "ipython3",
   "version": "3.6.3"
  }
 },
 "nbformat": 4,
 "nbformat_minor": 2
}
