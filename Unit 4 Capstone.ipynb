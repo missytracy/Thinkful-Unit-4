{
 "cells": [
  {
   "cell_type": "code",
   "execution_count": 1,
   "metadata": {},
   "outputs": [],
   "source": [
    "%matplotlib inline\n",
    "import numpy as np\n",
    "import pandas as pd\n",
    "import scipy\n",
    "import sklearn\n",
    "import matplotlib.pyplot as plt\n",
    "import seaborn as sns\n",
    "import nltk\n",
    "import re\n",
    "from nltk.corpus import state_union, stopwords"
   ]
  },
  {
   "cell_type": "markdown",
   "metadata": {},
   "source": [
    "# Unit 4 Capstone:\n",
    "## An Exploration of Supervised and Unsupervised Learning for NLP \n",
    "\n",
    "In this notebook, we'll dig into a corpus of State of the Union addresses with the goal of classifing the texts using a combination of supervised and unsupervised learning techniques.  The corpus comes from nltk and contains 65 State of the Union addresses from ten different US presidents (Harry S. Truman through George W. Bush). \n",
    "\n",
    "__Sections:__\n",
    "\n",
    "[Text Processing](#section1)<br>\n",
    "[Unsupervised Feature Generation](#section2)<br>\n",
    "[Supervised Learning Models](#section3)<br>\n",
    "[Comparing Supervised and Unsupervised Learning for NLP Applications](#section4)"
   ]
  },
  {
   "cell_type": "markdown",
   "metadata": {},
   "source": [
    "<a id='section1'></a>\n",
    "## Text Processing\n",
    "\n",
    "The first step is to get each speech for the corpus.  We'll create a list to store each file name and then create a loop to break each file into sentence level documents.  "
   ]
  },
  {
   "cell_type": "code",
   "execution_count": 3,
   "metadata": {},
   "outputs": [
    {
     "name": "stdout",
     "output_type": "stream",
     "text": [
      "17930\n"
     ]
    },
    {
     "data": {
      "text/plain": [
       "[\"PRESIDENT HARRY S . TRUMAN ' S ADDRESS BEFORE A JOINT SESSION OF THE CONGRESS\",\n",
       " 'April 16 , 1945',\n",
       " 'Mr . Speaker , Mr . President , Members of the Congress : It is with a heavy heart that I stand before you , my friends and colleagues , in the Congress of the United States .',\n",
       " 'Only yesterday , we laid to rest the mortal remains of our beloved President , Franklin Delano Roosevelt .',\n",
       " 'At a time like this , words are inadequate .']"
      ]
     },
     "execution_count": 3,
     "metadata": {},
     "output_type": "execute_result"
    }
   ],
   "source": [
    "# Make list of individual file ids\n",
    "file_ids = state_union.fileids()\n",
    "\n",
    "# Create blank labels list to populate\n",
    "labels = []\n",
    "\n",
    "# Iterate through list of files pulling out President name & year\n",
    "for file in file_ids:\n",
    "    \n",
    "    # label president for each text.  Splice to extract name, remove non-alpha characters for \n",
    "    # occassions when a President gave more than one State of the Union address in the same year.\n",
    "    president = re.sub(\"[^a-zA-Z]\", '', file[5:-4])\n",
    "       \n",
    "    # Append to labels list\n",
    "    labels.append([file, president])\n",
    "\n",
    "# Create blank lists to populate with sentence level data\n",
    "sent_list = []\n",
    "pres_list = []\n",
    "\n",
    "# Iterate through each State of the Union, create sentence level documents, maintain President\n",
    "# and year information for each sentence\n",
    "for i in range(len(labels)):\n",
    "    sents = state_union.sents(labels[i][0]) #get sentences from document\n",
    "    joined_sents = [(' '.join(sent), labels[i][1]) for sent in sents]\n",
    "    \n",
    "    # write out to individual lists for easier text processing\n",
    "    for i in range(len(joined_sents)): \n",
    "        sent_list.append(joined_sents[i][0]) \n",
    "        pres_list.append(joined_sents[i][1])  \n",
    "\n",
    "print(len(sent_list))\n",
    "sent_list[:5]"
   ]
  },
  {
   "cell_type": "markdown",
   "metadata": {},
   "source": [
    "We've created 17,930 sentence level text documents. Looking at a few example sentences, we see this first sentence of each speech acts as a title identifying the address.  Let's clean up the documents to get rid of these sentences as well as punctuation and numeric values.  We'll deal with capitalization in the [unsupervised feature generation section](#section2)."
   ]
  },
  {
   "cell_type": "code",
   "execution_count": 4,
   "metadata": {
    "scrolled": true
   },
   "outputs": [
    {
     "name": "stdout",
     "output_type": "stream",
     "text": [
      "17930\n"
     ]
    },
    {
     "data": {
      "text/plain": [
       "['',\n",
       " 'April          ',\n",
       " 'Mr   Speaker   Mr   President   Members of the Congress   It is with a heavy heart that I stand before you   my friends and colleagues   in the Congress of the United States  ',\n",
       " 'Only yesterday   we laid to rest the mortal remains of our beloved President   Franklin Delano Roosevelt  ']"
      ]
     },
     "execution_count": 4,
     "metadata": {},
     "output_type": "execute_result"
    }
   ],
   "source": [
    "# Create list to hold cleaned up sentences\n",
    "sent_list_clean = []\n",
    "\n",
    "# Iterate through sentence list, removing punctuation, numeric values,\n",
    "# frequently occuring word 'applause' that acts like a stop word in this \n",
    "# context, and sentences with all capital letters that represent title \n",
    "# information for each speech.\n",
    "for sent in sent_list:\n",
    "    sent = re.sub(\"[^a-zA-Z]\", ' ', sent) #remove numeric and punctuation\n",
    "    if sent == sent.upper():              #removes ALL CAPS header sentences\n",
    "        sent = \"\"                         #replace with blank\n",
    "    sent_list_clean.append(sent)\n",
    "\n",
    "# Inspect cleaned sentences\n",
    "print(len(sent_list_clean))\n",
    "sent_list_clean[:4]"
   ]
  },
  {
   "cell_type": "markdown",
   "metadata": {},
   "source": [
    "Now that we have our cleaned up documents, let's tokenize the sentences into words and get the lemmas. "
   ]
  },
  {
   "cell_type": "code",
   "execution_count": 5,
   "metadata": {},
   "outputs": [
    {
     "data": {
      "text/plain": [
       "['',\n",
       " 'April',\n",
       " 'Mr Speaker Mr President Members of the Congress It is with a heavy heart that I stand before you my friend and colleague in the Congress of the United States',\n",
       " 'Only yesterday we laid to rest the mortal remains of our beloved President Franklin Delano Roosevelt',\n",
       " 'At a time like this word are inadequate']"
      ]
     },
     "execution_count": 5,
     "metadata": {},
     "output_type": "execute_result"
    }
   ],
   "source": [
    "from nltk.tokenize import word_tokenize\n",
    "from nltk.stem import WordNetLemmatizer\n",
    "\n",
    "lemmatizer = WordNetLemmatizer()\n",
    "\n",
    "# Create list to hold lemmatized sentences\n",
    "lemma_sents = []\n",
    "\n",
    "# Tokenize, get lemmas, and rejoin back to sentence level doc\n",
    "for sent in sent_list_clean:\n",
    "    words = word_tokenize(sent)                                 \n",
    "    word_lemma = [lemmatizer.lemmatize(word) for word in words] \n",
    "    sent_lemma = ' '.join(word_lemma)                           \n",
    "    lemma_sents.append(sent_lemma)\n",
    "\n",
    "# Inspect results\n",
    "lemma_sents[:5]"
   ]
  },
  {
   "cell_type": "markdown",
   "metadata": {},
   "source": [
    "The text is almost ready to go.  Let's send it to a dataframe, remove all the blank lines, and see how things look.  From there, we're ready to move on to some unsupervised feature generation."
   ]
  },
  {
   "cell_type": "code",
   "execution_count": 6,
   "metadata": {},
   "outputs": [
    {
     "data": {
      "text/html": [
       "<div>\n",
       "<style scoped>\n",
       "    .dataframe tbody tr th:only-of-type {\n",
       "        vertical-align: middle;\n",
       "    }\n",
       "\n",
       "    .dataframe tbody tr th {\n",
       "        vertical-align: top;\n",
       "    }\n",
       "\n",
       "    .dataframe thead th {\n",
       "        text-align: right;\n",
       "    }\n",
       "</style>\n",
       "<table border=\"1\" class=\"dataframe\">\n",
       "  <thead>\n",
       "    <tr style=\"text-align: right;\">\n",
       "      <th></th>\n",
       "      <th>sent</th>\n",
       "      <th>president</th>\n",
       "    </tr>\n",
       "  </thead>\n",
       "  <tbody>\n",
       "    <tr>\n",
       "      <th>1</th>\n",
       "      <td>April</td>\n",
       "      <td>Truman</td>\n",
       "    </tr>\n",
       "    <tr>\n",
       "      <th>2</th>\n",
       "      <td>Mr Speaker Mr President Members of the Congres...</td>\n",
       "      <td>Truman</td>\n",
       "    </tr>\n",
       "    <tr>\n",
       "      <th>3</th>\n",
       "      <td>Only yesterday we laid to rest the mortal rema...</td>\n",
       "      <td>Truman</td>\n",
       "    </tr>\n",
       "    <tr>\n",
       "      <th>4</th>\n",
       "      <td>At a time like this word are inadequate</td>\n",
       "      <td>Truman</td>\n",
       "    </tr>\n",
       "    <tr>\n",
       "      <th>5</th>\n",
       "      <td>The most eloquent tribute would be a reverent ...</td>\n",
       "      <td>Truman</td>\n",
       "    </tr>\n",
       "  </tbody>\n",
       "</table>\n",
       "</div>"
      ],
      "text/plain": [
       "                                                sent president\n",
       "1                                              April    Truman\n",
       "2  Mr Speaker Mr President Members of the Congres...    Truman\n",
       "3  Only yesterday we laid to rest the mortal rema...    Truman\n",
       "4            At a time like this word are inadequate    Truman\n",
       "5  The most eloquent tribute would be a reverent ...    Truman"
      ]
     },
     "execution_count": 6,
     "metadata": {},
     "output_type": "execute_result"
    }
   ],
   "source": [
    "# Send to data frame\n",
    "df = pd.DataFrame()\n",
    "df['sent'] = lemma_sents\n",
    "df['president'] = pres_list\n",
    "\n",
    "# Remove blank documents \n",
    "df = df[df.sent!=\"\"]\n",
    "df.head()"
   ]
  },
  {
   "cell_type": "markdown",
   "metadata": {},
   "source": [
    "<a id='section2'></a>\n",
    "## Unsupervised Feature Generation\n",
    "\n",
    "In the section above, we cleaned up our text and processed it into sentence level documents.  In this section, we'll explore two techniques for generating unsupervised features:\n",
    "* Tf-idf\n",
    "* Latent Semantic Analysis\n",
    "\n",
    "First, let's take a look at class balance and then split the dataframe into a training and testing sets.  We'll save 25% for testing our supervised models later on.   "
   ]
  },
  {
   "cell_type": "code",
   "execution_count": 138,
   "metadata": {},
   "outputs": [
    {
     "data": {
      "text/html": [
       "<div>\n",
       "<style scoped>\n",
       "    .dataframe tbody tr th:only-of-type {\n",
       "        vertical-align: middle;\n",
       "    }\n",
       "\n",
       "    .dataframe tbody tr th {\n",
       "        vertical-align: top;\n",
       "    }\n",
       "\n",
       "    .dataframe thead th {\n",
       "        text-align: right;\n",
       "    }\n",
       "</style>\n",
       "<table border=\"1\" class=\"dataframe\">\n",
       "  <thead>\n",
       "    <tr style=\"text-align: right;\">\n",
       "      <th></th>\n",
       "      <th>sent</th>\n",
       "    </tr>\n",
       "    <tr>\n",
       "      <th>president</th>\n",
       "      <th></th>\n",
       "    </tr>\n",
       "  </thead>\n",
       "  <tbody>\n",
       "    <tr>\n",
       "      <th>Bush</th>\n",
       "      <td>0.068645</td>\n",
       "    </tr>\n",
       "    <tr>\n",
       "      <th>Carter</th>\n",
       "      <td>0.032546</td>\n",
       "    </tr>\n",
       "    <tr>\n",
       "      <th>Clinton</th>\n",
       "      <td>0.175419</td>\n",
       "    </tr>\n",
       "    <tr>\n",
       "      <th>Eisenhower</th>\n",
       "      <td>0.129280</td>\n",
       "    </tr>\n",
       "    <tr>\n",
       "      <th>Ford</th>\n",
       "      <td>0.040273</td>\n",
       "    </tr>\n",
       "    <tr>\n",
       "      <th>GWBush</th>\n",
       "      <td>0.121270</td>\n",
       "    </tr>\n",
       "    <tr>\n",
       "      <th>Johnson</th>\n",
       "      <td>0.097749</td>\n",
       "    </tr>\n",
       "    <tr>\n",
       "      <th>Kennedy</th>\n",
       "      <td>0.040160</td>\n",
       "    </tr>\n",
       "    <tr>\n",
       "      <th>Nixon</th>\n",
       "      <td>0.046308</td>\n",
       "    </tr>\n",
       "    <tr>\n",
       "      <th>Reagan</th>\n",
       "      <td>0.104462</td>\n",
       "    </tr>\n",
       "    <tr>\n",
       "      <th>Truman</th>\n",
       "      <td>0.143889</td>\n",
       "    </tr>\n",
       "  </tbody>\n",
       "</table>\n",
       "</div>"
      ],
      "text/plain": [
       "                sent\n",
       "president           \n",
       "Bush        0.068645\n",
       "Carter      0.032546\n",
       "Clinton     0.175419\n",
       "Eisenhower  0.129280\n",
       "Ford        0.040273\n",
       "GWBush      0.121270\n",
       "Johnson     0.097749\n",
       "Kennedy     0.040160\n",
       "Nixon       0.046308\n",
       "Reagan      0.104462\n",
       "Truman      0.143889"
      ]
     },
     "execution_count": 138,
     "metadata": {},
     "output_type": "execute_result"
    }
   ],
   "source": [
    "# Examine class balance.  Predominantly Clinton, Eisenhower, GWBush, Reagan, and Truman\n",
    "df.groupby('president').count()/df['sent'].count()"
   ]
  },
  {
   "cell_type": "code",
   "execution_count": 7,
   "metadata": {},
   "outputs": [
    {
     "name": "stdout",
     "output_type": "stream",
     "text": [
      "(13296, 2)\n",
      "(4433, 2)\n"
     ]
    }
   ],
   "source": [
    "from sklearn.model_selection import train_test_split\n",
    "\n",
    "# Split data frame, reserving 25% for validation\n",
    "\n",
    "df_train, df_test = train_test_split(df,\n",
    "                                    stratify=df['president'], #maintain class balance between splits\n",
    "                                    test_size=0.25,\n",
    "                                    random_state=42)\n",
    "\n",
    "# Examine shapes\n",
    "print(df_train.shape)\n",
    "print(df_test.shape)"
   ]
  },
  {
   "cell_type": "markdown",
   "metadata": {},
   "source": [
    "### Technique #1: Tf-idf Vector\n",
    "The first techique is to create term frequency-inverse document frequency (tf-idf) vectors for each word.  The following components make up the tf-idf value:\n",
    "\n",
    "* **Document frequency** - How many documents the word appears in.  More common words will have a higher document frequency.\n",
    "* **Inverse document frequency** - Takes the log (base 2) of the ratio between the total documents to the document frequency.  More frequeny words are penalized whereas less common words become more influential.\n",
    "* **Term frequency** - How many times the term appears in a document.  In this case, it's how many times a word appears in a sentence.\n",
    "* **Tf-idf** - Product of the term frequency multiplied by the inverse document frequency.  Largest tf-idf scores will represent words that occur a lot in a small number of sentences, and the lowest for a word that occurs in many sentences.  The benefit of tf-idf is that you can identify unique words that may help distinguish text documents from one another.\n",
    "\n",
    "We can easily calculate our tf-idf vector matrix using TfidfVectorizer.  In the process, we'll also do a bit more text cleaning by removing stop words and standardizing everything to lowercase."
   ]
  },
  {
   "cell_type": "code",
   "execution_count": 8,
   "metadata": {},
   "outputs": [
    {
     "name": "stdout",
     "output_type": "stream",
     "text": [
      "(13296, 5967)\n",
      "(4433, 5967)\n"
     ]
    }
   ],
   "source": [
    "from sklearn.feature_extraction.text import TfidfVectorizer\n",
    "\n",
    "vectorizer = TfidfVectorizer(stop_words='english', #filter out stopwords\n",
    "                             lowercase=True,       #convert all to lowercase\n",
    "                             min_df=2,             #use words appearing at least twice per document\n",
    "                             max_df=0.5,           #drop words that occur in more than half of the documents\n",
    "                             use_idf=True,\n",
    "                             smooth_idf=True,\n",
    "                             norm='l2'\n",
    "                             )\n",
    "\n",
    "# Specify data to vectorize\n",
    "X_train = df_train['sent']\n",
    "X_test = df_test['sent']\n",
    "\n",
    "# Vectorize training data\n",
    "X_train_tfidf = vectorizer.fit_transform(X_train)\n",
    "\n",
    "# Fit test data to vector\n",
    "X_test_tfidf = vectorizer.transform(X_test)\n",
    "\n",
    "# Examine shapes \n",
    "print(X_train_tfidf.shape)\n",
    "print(X_test_tfidf.shape)"
   ]
  },
  {
   "cell_type": "markdown",
   "metadata": {},
   "source": [
    "Once we calculate our tf-idf matrices, we can calculate the average tf-idf for each word.  Looking at both the training and test data sets, we see the same top ten weighted words.  Perhaps unsuprisingly, they're generic words I'd expect to see in a State of the Union address. "
   ]
  },
  {
   "cell_type": "code",
   "execution_count": 9,
   "metadata": {},
   "outputs": [
    {
     "name": "stdout",
     "output_type": "stream",
     "text": [
      "Train:\n",
      "       avg_weight        word\n",
      "299     0.022281    applause\n",
      "5945    0.018338        year\n",
      "3783    0.014657      people\n",
      "2439    0.013625          ha\n",
      "5905    0.013314       world\n",
      "242     0.013177     america\n",
      "3467    0.013005      nation\n",
      "2367    0.011454  government\n",
      "1044    0.011220    congress\n",
      "3513    0.011217         new\n",
      "\n",
      "Test:\n",
      "       avg_weight        word\n",
      "299     0.024733    applause\n",
      "5945    0.021633        year\n",
      "3783    0.015646      people\n",
      "2439    0.014644          ha\n",
      "5905    0.014433       world\n",
      "242     0.013274     america\n",
      "2367    0.012511  government\n",
      "3467    0.012503      nation\n",
      "3513    0.012015         new\n",
      "1044    0.011547    congress\n"
     ]
    }
   ],
   "source": [
    "# Calculate weights on training data\n",
    "weights = np.asarray(X_train_tfidf.mean(axis=0)).ravel().tolist()\n",
    "weights_df = pd.DataFrame({'word': vectorizer.get_feature_names(), 'avg_weight': weights})\n",
    "print(\"Train:\\n\", weights_df.sort_values(by='avg_weight', ascending=False).head(10))\n",
    "\n",
    "# Calculate weights on test data\n",
    "weights = np.asarray(X_test_tfidf.mean(axis=0)).ravel().tolist()\n",
    "weights_df = pd.DataFrame({'word': vectorizer.get_feature_names(), 'avg_weight': weights})\n",
    "print(\"\\nTest:\\n\", weights_df.sort_values(by='avg_weight', ascending=False).head(10))"
   ]
  },
  {
   "cell_type": "markdown",
   "metadata": {},
   "source": [
    "### Technique #2: Latent Semantic Analysis using Singular Value Decomposition\n",
    "\n",
    "We can take our tf-idf vector matrix one step further and perform latent semantic analysis (LSA) on the words in an attempt to gain semantic information.  LSA is performed through a dimensionality reduction technique called singluar value decompositin (SVD).  SVD is applied to a tf-idf vector matrix and the resulting components represent clusters of words that presumably reflect topics within the corpus.  \n",
    "\n",
    "Here we'll reduce our tf-idf feature space to 10% of its orignial value and take a look at some of the components."
   ]
  },
  {
   "cell_type": "code",
   "execution_count": 18,
   "metadata": {
    "scrolled": false
   },
   "outputs": [
    {
     "name": "stdout",
     "output_type": "stream",
     "text": [
      "Percent variance captured by components: 55.49882017265345\n",
      "Component 0:\n",
      "sent\n",
      "Applause    0.999784\n",
      "Applause    0.999784\n",
      "Applause    0.999784\n",
      "Applause    0.999784\n",
      "Applause    0.999784\n",
      "Name: 0, dtype: float64\n",
      "Component 1:\n",
      "sent\n",
      "But my colleague this I believe With the help of God who ha blessed this land so richly with the cooperation of the Congress and with the support of the American people we can and we will make the year a year of unprecedented progress toward our goal of building a structure of lasting peace in the world and a new prosperity without war in the United States of America                                                                                                                                                                                                                                                                                                                                                                                                                                                                                                                                                                                                                                                                                                                                             0.476794\n",
      "Not everything ha been made perfect in seven year nor will it be made perfect in seven time year but before u this year and beyond are great prospect for the cause of peace and world freedom                                                                                                                                                                                                                                                                                                                                                                                                                                                                                                                                                                                                                                                                                                                                                                                                                                                                                                                                0.405062\n",
      "Tonight for the first time in year a President of the United States can report to the Congress on the state of a Union at peace with every nation of the world                                                                                                                                                                                                                                                                                                                                                                                                                                                                                                                                                                                                                                                                                                                                                                                                                                                                                                                                                                0.377959\n",
      "That is why my call upon the Congress today is for a high statesmanship so that in the year to come Americans will look back and say because it withstood the intense pressure of a political year and achieved such great good for the American people and for the future of this Nation this wa truly a great Congress                                                                                                                                                                                                                                                                                                                                                                                                                                                                                                                                                                                                                                                                                                                                                                                                      0.374017\n",
      "And our challenge today is to take this democratic system of ours a system second to none and make it better a better America where there s a job for everyone who want one where woman working outside the home can be confident their child are in safe and loving care and where government work to expand child care alternative for parent where we reconcile the need of a clean environment and a strong economy where Made in the USA is recognized around the world a the symbol of quality and progress where every one of u enjoys the same opportunity to live to work and to contribute to society and where for the first time the American mainstream includes all of our disabled citizen where everyone ha a roof over his head and where the homeless get the help they need to live in dignity where our school challenge and support our kid and our teacher and where all of them make the grade where every street every city every school and every child is drug free and finally where no American is forgotten our heart go out to our hostage who are ceaselessly on our mind and in our effort    0.369890\n",
      "Name: 1, dtype: float64\n",
      "Component 2:\n",
      "sent\n",
      "They should be made this year                  0.628119\n",
      "We must do it this year                        0.628119\n",
      "Last year in                                   0.628119\n",
      "That is more than in all the preceding year    0.623027\n",
      "This is the year to decide                     0.569783\n",
      "Name: 2, dtype: float64\n",
      "Component 3:\n",
      "sent\n",
      "The civilized world is rallying to America s side                                                                                                                                                 0.456390\n",
      "Not everything ha been made perfect in seven year nor will it be made perfect in seven time year but before u this year and beyond are great prospect for the cause of peace and world freedom    0.455515\n",
      "Most important I see an America at peace with all the nation of the world                                                                                                                         0.418395\n",
      "This statue is more than a landmark it is a symbol Xa symbol of what America ha meant to the world                                                                                                0.414404\n",
      "It is foremost among the nation of the world in the search for peace                                                                                                                              0.406632\n",
      "Name: 3, dtype: float64\n",
      "Component 4:\n",
      "sent\n",
      "This year let s triple it to                             0.594776\n",
      "Let s do whatever we have to do to get something done    0.548733\n",
      "Let s do that together                                   0.548733\n",
      "Now let u do the same                                    0.548733\n",
      "Let s do it together                                     0.548733\n",
      "Name: 4, dtype: float64\n",
      "Component 5:\n",
      "sent\n",
      "We the people    0.618987\n",
      "We the people    0.618987\n",
      "We the people    0.618987\n",
      "We the people    0.618987\n",
      "We the people    0.618987\n",
      "Name: 5, dtype: float64\n"
     ]
    }
   ],
   "source": [
    "from sklearn.decomposition import TruncatedSVD\n",
    "from sklearn.pipeline import make_pipeline\n",
    "from sklearn.preprocessing import Normalizer\n",
    "\n",
    "# Reduce feature space to ~10% of original\n",
    "svd = TruncatedSVD(600)\n",
    "\n",
    "# Make pipeline to run svd and normalize results\n",
    "lsa_pipe = make_pipeline(svd, Normalizer())\n",
    "\n",
    "# Fit with training data, transform test data\n",
    "X_train_lsa = lsa_pipe.fit_transform(X_train_tfidf)\n",
    "X_test_lsa = lsa_pipe.transform(X_test_tfidf)\n",
    "\n",
    "# Examine variance captured in reduced feature space\n",
    "variance_explained = svd.explained_variance_ratio_\n",
    "total_variance = variance_explained.sum()\n",
    "print('Percent variance captured by components:', total_variance*100)\n",
    "\n",
    "sent_by_component = pd.DataFrame(X_train_lsa, index=X_train)\n",
    "\n",
    "# Look at values from first 5 components\n",
    "for i in range(6):\n",
    "    print('Component {}:'.format(i))\n",
    "    print(sent_by_component.loc[:, i].sort_values(ascending=False)[:5]) "
   ]
  },
  {
   "cell_type": "markdown",
   "metadata": {},
   "source": [
    "Using SVC, we were able to reduce the feature space to approximately 10% of it's original size (5,965 down to 600 columns) and still capture 55% of the variation.  Not too bad.  We could increase the feature space size to try and capture more variation, but my local computing environment is maxed out, so we'll stick with the current setup.\n",
    "\n",
    "What about the components?  Looking at the first 5 sentences of the first 6 components, we get the following semantic information:\n",
    "\n",
    "* Component 0 - The word 'applause'.  This is a corpus specific stop word that could be removed from the documents.\n",
    "* Component 1 - Longer statements containing positive sentiments about prosperity in America, world peace.\n",
    "* Component 2 - Statements referencing the word 'year'.\n",
    "* Component 3 - Statements involving America and it's relationship to the world, particularly involving peace.  Similar to component 0.\n",
    "* Component 4 - Statements around 'let's do', a collective call to action.\n",
    "* Component 5 - The phrase 'we the people'"
   ]
  },
  {
   "cell_type": "markdown",
   "metadata": {},
   "source": [
    "<a id='section3'></a>\n",
    "## Supervised Learning\n",
    "\n",
    "Now let's try out our tf-idf and LSA feature sets on a few models to see if one performs better than the other at predicting the document source.  In this case, the source is one of ten presidents. Because we have ten target classes, we'll need to use classification models that support multiclass output.  \n",
    "\n",
    "Let's look at the performance of the following models:\n",
    "* Random Forest Classifier\n",
    "* Logistic Regression\n",
    "* Support Vector Classifier\n",
    "\n",
    "To streamline the workflow, let's write a function that will test each model on both the tf-idf and LSA features and then produce a confusion matrix for each test case."
   ]
  },
  {
   "cell_type": "code",
   "execution_count": 132,
   "metadata": {},
   "outputs": [],
   "source": [
    "# Import models \n",
    "from sklearn.ensemble import RandomForestClassifier                          \n",
    "from sklearn.linear_model import LogisticRegression \n",
    "from sklearn.svm import SVC   \n",
    "\n",
    "# Import evaluation metrics\n",
    "from sklearn.model_selection import cross_val_score\n",
    "from sklearn.metrics import confusion_matrix\n",
    "\n",
    "# Specify target variables\n",
    "Y_train = df_train['president']\n",
    "Y_test = df_test['president']"
   ]
  },
  {
   "cell_type": "code",
   "execution_count": 126,
   "metadata": {},
   "outputs": [],
   "source": [
    "# Set up funtion to run models on both feature sets and generate accuracy scores and confusion matrices\n",
    "def run_model(clf):\n",
    "    \n",
    "    #************ TFIDF Feature Inputs ***************\n",
    "    X_train = X_train_tfidf\n",
    "    X_test = X_test_tfidf\n",
    "    \n",
    "    # Fit with tfidf features\n",
    "    clf.fit(X_train, Y_train)\n",
    "    \n",
    "    # Predict outcomes for confusion matrix\n",
    "    Y_pred_tf = clf.fit(X_train_tfidf, Y_train).predict(X_test_tfidf)\n",
    "    \n",
    "    # Get results\n",
    "    print('TF-IDF Features:')\n",
    "    print('Train accuracy:', clf.score(X_train, Y_train))\n",
    "    print('Test accuracy:', clf.score(X_test, Y_test))\n",
    "    print('---------------------------------------------')\n",
    "\n",
    "    # ************ LSA Feature Inputs *******************\n",
    "    X_train = X_train_lsa\n",
    "    X_test = X_test_lsa\n",
    "    \n",
    "    # Refit with lsa features\n",
    "    clf.fit(X_train, Y_train)\n",
    "    \n",
    "    # Predict outcomes for confusion matrix\n",
    "    Y_pred_lsa = clf.fit(X_train_lsa, Y_train).predict(X_test_lsa)\n",
    "    \n",
    "    print('LSA Features:')\n",
    "    print('Train accuracy:', clf.score(X_train, Y_train))\n",
    "    print('Test accuracy:', clf.score(X_test, Y_test))\n",
    "    \n",
    "    # ************ Generate Confusion Matrices ****************\n",
    "    \n",
    "    # Specify text labels\n",
    "    labels = sorted(Y_test.unique())\n",
    "    \n",
    "    # Make tfidf confusion matrix, send to df\n",
    "    cm_tf = confusion_matrix(Y_test, Y_pred_tf)\n",
    "    df_cm_tf = pd.DataFrame(cm_tf, labels, labels)\n",
    "  \n",
    "    # Make lsa confusion matrix, send to df\n",
    "    cm_lsa = confusion_matrix(Y_test, Y_pred_lsa)\n",
    "    df_cm_lsa = pd.DataFrame(cm_lsa, labels, labels)\n",
    "    \n",
    "    # Setup plots\n",
    "    fig, (ax1, ax2) = plt.subplots(1, 2, figsize=(8,4))\n",
    "\n",
    "    \n",
    "    # ******************** Plot *************************\n",
    "    \n",
    "    # Create confustion matrix heatmaps \n",
    "    sns.heatmap(df_cm_tf, ax=ax1)\n",
    "    sns.heatmap(df_cm_lsa, ax=ax2)\n",
    "\n",
    "    # Set title and axis\n",
    "    ax1.set_title('Tf-idf Confusion Matrix')\n",
    "    ax2.set_title('LSA Confusion Matrix')\n",
    "\n",
    "    ax1.set_ylabel('Actual')\n",
    "    ax1.set_xlabel('Predicted')\n",
    "    ax2.set_xlabel('Predicted')\n",
    "\n",
    "    plt.tight_layout()\n",
    "    plt.show()"
   ]
  },
  {
   "cell_type": "markdown",
   "metadata": {},
   "source": [
    "#### Random Forest"
   ]
  },
  {
   "cell_type": "code",
   "execution_count": 129,
   "metadata": {},
   "outputs": [
    {
     "name": "stdout",
     "output_type": "stream",
     "text": [
      "TF-IDF Features:\n",
      "Train accuracy: 0.27812876052948254\n",
      "Test accuracy: 0.2434017595307918\n",
      "---------------------------------------------\n",
      "LSA Features:\n",
      "Train accuracy: 0.30212093862815886\n",
      "Test accuracy: 0.24836453868711933\n"
     ]
    },
    {
     "data": {
      "image/png": "[encoded data removed]",
      "text/plain": [
       "<matplotlib.figure.Figure at 0x1bcd6470>"
      ]
     },
     "metadata": {},
     "output_type": "display_data"
    }
   ],
   "source": [
    "# Specify the classifier\n",
    "clf = RandomForestClassifier(n_estimators=100,\n",
    "                             max_depth=3,\n",
    "                             random_state=42,\n",
    "                             class_weight='balanced' \n",
    "                            )   \n",
    "\n",
    "# Run model\n",
    "run_model(clf)"
   ]
  },
  {
   "cell_type": "markdown",
   "metadata": {},
   "source": [
    "Both feature sets performed about the same in terms of overall accuracy.  Looking at the confusion matrices, we see the tf-idf features predominately predicted Johnson as the document source.  The LSA features performed well at correctly identifying Clinton, GWBush, and Truman, but poorly for all other cases.  Despite setting the __class_balance__ parameter to __'balanced'__, prediction accuracies generally follow the class imbalance present in the data.\n",
    "\n",
    "A bonus to using the Random Forest Classifier with tf-idf features is the ability to look at feature importances.  Let's take a look at what the top ten most important words were when training the model."
   ]
  },
  {
   "cell_type": "code",
   "execution_count": 15,
   "metadata": {},
   "outputs": [
    {
     "data": {
      "text/html": [
       "<div>\n",
       "<style scoped>\n",
       "    .dataframe tbody tr th:only-of-type {\n",
       "        vertical-align: middle;\n",
       "    }\n",
       "\n",
       "    .dataframe tbody tr th {\n",
       "        vertical-align: top;\n",
       "    }\n",
       "\n",
       "    .dataframe thead th {\n",
       "        text-align: right;\n",
       "    }\n",
       "</style>\n",
       "<table border=\"1\" class=\"dataframe\">\n",
       "  <thead>\n",
       "    <tr style=\"text-align: right;\">\n",
       "      <th></th>\n",
       "      <th>importance</th>\n",
       "      <th>word</th>\n",
       "    </tr>\n",
       "  </thead>\n",
       "  <tbody>\n",
       "    <tr>\n",
       "      <th>299</th>\n",
       "      <td>0.052127</td>\n",
       "      <td>applause</td>\n",
       "    </tr>\n",
       "    <tr>\n",
       "      <th>818</th>\n",
       "      <td>0.030735</td>\n",
       "      <td>child</td>\n",
       "    </tr>\n",
       "    <tr>\n",
       "      <th>5789</th>\n",
       "      <td>0.021028</td>\n",
       "      <td>war</td>\n",
       "    </tr>\n",
       "    <tr>\n",
       "      <th>2142</th>\n",
       "      <td>0.020488</td>\n",
       "      <td>fiscal</td>\n",
       "    </tr>\n",
       "    <tr>\n",
       "      <th>5348</th>\n",
       "      <td>0.018744</td>\n",
       "      <td>terrorist</td>\n",
       "    </tr>\n",
       "    <tr>\n",
       "      <th>3092</th>\n",
       "      <td>0.016225</td>\n",
       "      <td>legislation</td>\n",
       "    </tr>\n",
       "    <tr>\n",
       "      <th>4786</th>\n",
       "      <td>0.015754</td>\n",
       "      <td>shall</td>\n",
       "    </tr>\n",
       "    <tr>\n",
       "      <th>1980</th>\n",
       "      <td>0.015015</td>\n",
       "      <td>expenditure</td>\n",
       "    </tr>\n",
       "    <tr>\n",
       "      <th>5423</th>\n",
       "      <td>0.014583</td>\n",
       "      <td>tonight</td>\n",
       "    </tr>\n",
       "    <tr>\n",
       "      <th>2910</th>\n",
       "      <td>0.014188</td>\n",
       "      <td>iraq</td>\n",
       "    </tr>\n",
       "  </tbody>\n",
       "</table>\n",
       "</div>"
      ],
      "text/plain": [
       "      importance         word\n",
       "299     0.052127     applause\n",
       "818     0.030735        child\n",
       "5789    0.021028          war\n",
       "2142    0.020488       fiscal\n",
       "5348    0.018744    terrorist\n",
       "3092    0.016225  legislation\n",
       "4786    0.015754        shall\n",
       "1980    0.015015  expenditure\n",
       "5423    0.014583      tonight\n",
       "2910    0.014188         iraq"
      ]
     },
     "execution_count": 15,
     "metadata": {},
     "output_type": "execute_result"
    }
   ],
   "source": [
    "# Use model to get feature importance\n",
    "feat_importance = clf.fit(X_train_tfidf, Y_train).feature_importances_\n",
    "features = vectorizer.get_feature_names()\n",
    "\n",
    "importance_df = pd.DataFrame({'word': vectorizer.get_feature_names(), 'importance': feat_importance})\n",
    "importance_df.sort_values(by='importance', ascending=False).head(10)"
   ]
  },
  {
   "cell_type": "markdown",
   "metadata": {},
   "source": [
    "Again, we see 'applause' as the most important word.  This could be throwing off the model because it's effectively a corpus specific stop word."
   ]
  },
  {
   "cell_type": "markdown",
   "metadata": {},
   "source": [
    "#### Logistic Regression"
   ]
  },
  {
   "cell_type": "code",
   "execution_count": 130,
   "metadata": {},
   "outputs": [
    {
     "name": "stdout",
     "output_type": "stream",
     "text": [
      "TF-IDF Features:\n",
      "Train accuracy: 0.6225180505415162\n",
      "Test accuracy: 0.42837807353936386\n",
      "---------------------------------------------\n",
      "LSA Features:\n",
      "Train accuracy: 0.4858604091456077\n",
      "Test accuracy: 0.40130836905030454\n"
     ]
    },
    {
     "data": {
      "image/png": "[encoded data removed]",
      "text/plain": [
       "<matplotlib.figure.Figure at 0x160353d0>"
      ]
     },
     "metadata": {},
     "output_type": "display_data"
    }
   ],
   "source": [
    "# Specify and run model\n",
    "clf = LogisticRegression()\n",
    "run_model(clf)"
   ]
  },
  {
   "cell_type": "markdown",
   "metadata": {},
   "source": [
    "Logistic regression performed much better overall, although accuracy again generally followed the class imbalance.  Both feature sets worked well at correctly predicting Clinton, and to a lesser extent, Eisenhower, GWBush, and Truman. The tf-idf feature set was more prone to overfitting."
   ]
  },
  {
   "cell_type": "markdown",
   "metadata": {},
   "source": [
    "#### Support Vector Machine "
   ]
  },
  {
   "cell_type": "code",
   "execution_count": 131,
   "metadata": {},
   "outputs": [
    {
     "name": "stdout",
     "output_type": "stream",
     "text": [
      "TF-IDF Features:\n",
      "Train accuracy: 0.17539109506618533\n",
      "Test accuracy: 0.17550191743740132\n",
      "---------------------------------------------\n",
      "LSA Features:\n",
      "Train accuracy: 0.17539109506618533\n",
      "Test accuracy: 0.17550191743740132\n"
     ]
    },
    {
     "data": {
      "image/png": "[encoded data removed]",
      "text/plain": [
       "<matplotlib.figure.Figure at 0x1a5425b0>"
      ]
     },
     "metadata": {},
     "output_type": "display_data"
    }
   ],
   "source": [
    "# Specify and run model\n",
    "clf = SVC()\n",
    "run_model(clf)"
   ]
  },
  {
   "cell_type": "markdown",
   "metadata": {},
   "source": [
    "Yikes.  The support vector machine classifier worked terribly for both feature sets and took a very long time to run.  The model latched on exclusively to Clinton as the document source.  Model accuracy merely reprents the percentage of documents that came from Clinton."
   ]
  },
  {
   "cell_type": "markdown",
   "metadata": {},
   "source": [
    "<a id='section4'></a>\n",
    "## Comparing Supervised and Unsupervised Learning for NLP Applications"
   ]
  },
  {
   "cell_type": "markdown",
   "metadata": {},
   "source": [
    "Based on the three models above, it's clear more work could be done to make a more accurate classifier.  For starters, we could removing corpus specific stop words and address the class imbalance that's manifesting itself our model accuracies.  But the purpose here wasn't to build the best classifier possible (although that would have been a good perk).  Instead, we explored how supervised and unsupervised methods could be applied to natural language processing applications.  \n",
    "\n",
    "Here's a summary of what we learned:\n",
    "\n",
    "__Unsupervised:__\n",
    "* Tf-Idf can be used to detect unique identifier words\n",
    "* SVD can identify corpus specific stop words (i.e. 'applause'), as well as common phrases (i.e. 'we the people')\n",
    "* SVD clusters the tf-idf matrix into general themes and sentiments present in the documents.  Sometimes these clusters are meaningful and can shed light on common sentiments.\n",
    "* We didn't use similarity comparison here because it didn't make much sense for our document size.  However, if the document size was larger, say the full text body for each address, running a similarity analysis could be quite informative.  For example, we could compare the similarity of different presidents, or look at how similarity changes within a president's term.\n",
    "\n",
    "__Supervised:__\n",
    "* The utility of supervised methods is more limited and should be used for text classification purposes.  Depending on the model used, additional insights could be gained by looking at feature importance."
   ]
  }
 ],
 "metadata": {
  "kernelspec": {
   "display_name": "Python 3",
   "language": "python",
   "name": "python3"
  },
  "language_info": {
   "codemirror_mode": {
    "name": "ipython",
    "version": 3
   },
   "file_extension": ".py",
   "mimetype": "text/x-python",
   "name": "python",
   "nbconvert_exporter": "python",
   "pygments_lexer": "ipython3",
   "version": "3.6.3"
  }
 },
 "nbformat": 4,
 "nbformat_minor": 2
}
